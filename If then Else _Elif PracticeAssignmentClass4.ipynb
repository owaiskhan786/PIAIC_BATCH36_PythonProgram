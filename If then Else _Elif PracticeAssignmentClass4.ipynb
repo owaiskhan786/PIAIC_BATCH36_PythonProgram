{
  "cells": [
    {
      "cell_type": "markdown",
      "metadata": {
        "id": "view-in-github",
        "colab_type": "text"
      },
      "source": [
        "<a href=\"https://colab.research.google.com/github/owaiskhan786/PIAIC_BATCH36_PythonProgram/blob/main/If_then_Else_%26Elif_Practice_Task_.ipynb\" target=\"_parent\"><img src=\"https://colab.research.google.com/assets/colab-badge.svg\" alt=\"Open In Colab\"/></a>"
      ]
    },
    {
      "cell_type": "raw",
      "metadata": {
        "id": "guKbPvsjUxr-"
      },
      "source": [
        "1) A company decided to give bonus of 5% to employee if his/her year of service is more than 5 years.\n",
        "Ask user for their salary and year of service and print the net bonus amount."
      ]
    },
    {
      "cell_type": "code",
      "execution_count": null,
      "metadata": {
        "colab": {
          "base_uri": "https://localhost:8080/"
        },
        "id": "1UCig5nWUxsA",
        "outputId": "c37ad20f-561a-4bfc-9017-dd068031c483"
      },
      "outputs": [
        {
          "output_type": "stream",
          "name": "stdout",
          "text": [
            "Enter Service Age : 6\n",
            "Enter Salary : 200000\n",
            "Bouns Amount : 10000.0\n"
          ]
        }
      ],
      "source": [
        "Service_age = int(input(\"Enter Service Age : \"))\n",
        "Bonus = None\n",
        "if Service_age > 5 : \n",
        "   Salary = int(input(\"Enter Salary : \"))\n",
        "   Bonus = Salary * 5/100\n",
        "else:\n",
        "  print(\"Service Age is less than 5\")\n",
        "\n",
        "print(f\"Bouns Amount : {Bonus}\")"
      ]
    },
    {
      "cell_type": "markdown",
      "metadata": {
        "id": "SoUQPWpTUxsD"
      },
      "source": [
        "\n",
        "2) Write a program to check whether a person is eligible for voting or not. (accept age from user)"
      ]
    },
    {
      "cell_type": "code",
      "execution_count": null,
      "metadata": {
        "colab": {
          "base_uri": "https://localhost:8080/"
        },
        "id": "ovRVUk_7UxsG",
        "outputId": "c7b7772b-2534-4079-9c56-62ca1a035d79"
      },
      "outputs": [
        {
          "output_type": "stream",
          "name": "stdout",
          "text": [
            "Enter Age : 18\n",
            "Eligible for Vote\n"
          ]
        }
      ],
      "source": [
        "age = int(input(\"Enter Age : \"))\n",
        "if age >= 18 :\n",
        "  print(\"Eligible for Vote\")\n",
        "else:\n",
        "  print(\"Not Eligible for Vote\")"
      ]
    },
    {
      "cell_type": "markdown",
      "metadata": {
        "id": "g2jaEpbHUxsH"
      },
      "source": [
        "\n",
        "3) Write a program to check whether a number entered by user is even or odd."
      ]
    },
    {
      "cell_type": "code",
      "execution_count": null,
      "metadata": {
        "colab": {
          "base_uri": "https://localhost:8080/"
        },
        "id": "wJj5yxbcUxsJ",
        "outputId": "8c9b4c68-9315-47af-b761-67d6f59dd070"
      },
      "outputs": [
        {
          "output_type": "stream",
          "name": "stdout",
          "text": [
            "Enter Number : 2\n",
            "Number is Even\n"
          ]
        }
      ],
      "source": [
        "num = int(input(\"Enter Number : \"))\n",
        "if (num % 2) == 0:\n",
        "  print(\"Number is Even\")\n",
        "else:\n",
        "  print(\"Number is Odd\")"
      ]
    },
    {
      "cell_type": "markdown",
      "metadata": {
        "id": "-xxFg-c5UxsK"
      },
      "source": [
        "4) Write a program to check whether a number is divisible by 7 or not.\n",
        "Show Answer"
      ]
    },
    {
      "cell_type": "code",
      "execution_count": null,
      "metadata": {
        "colab": {
          "base_uri": "https://localhost:8080/"
        },
        "id": "EczAS-T4UxsM",
        "outputId": "fff8e617-988e-4771-ac06-19e11f1939bb"
      },
      "outputs": [
        {
          "output_type": "stream",
          "name": "stdout",
          "text": [
            "Enter Number : 21\n",
            "divisible by 7\n"
          ]
        }
      ],
      "source": [
        "num = int(input(\"Enter Number : \"))\n",
        "if(num % 7) == 0:\n",
        "  print(\"divisible by 7\")\n",
        "else:\n",
        "  print(\"Not divisible by 7\")"
      ]
    },
    {
      "cell_type": "raw",
      "metadata": {
        "id": "l0FTBe2cUxsN"
      },
      "source": [
        "5) Write a program to display \n",
        "\"Hello\" if a number entered by user is a multiple of five , otherwise print \"Bye\"."
      ]
    },
    {
      "cell_type": "code",
      "execution_count": 55,
      "metadata": {
        "colab": {
          "base_uri": "https://localhost:8080/"
        },
        "id": "zN1tmdw0UxsP",
        "outputId": "9fd01043-bedc-4942-a0aa-0e2981ae43d0"
      },
      "outputs": [
        {
          "output_type": "stream",
          "name": "stdout",
          "text": [
            "Enter Number : 25\n",
            "Hello\n"
          ]
        }
      ],
      "source": [
        "Number = int(input(\"Enter Number : \"))\n",
        "if (Number%5) == 0: \n",
        "  print(\"Hello\")\n",
        "else:\n",
        "  print(\"Bye\")"
      ]
    },
    {
      "cell_type": "raw",
      "metadata": {
        "id": "TFjeAO_MUxsQ"
      },
      "source": [
        "6) Write a program to calculate the electricity bill (accept number of unit from user) according to the following criteria :\n",
        "     Unit                                                     Price  \n",
        "uptp 100 units                                             no charge\n",
        "Next 200 units                                              Rs 5 per unit\n",
        "After 200 units                                             Rs 10 per unit\n",
        "(For example if input unit is 350 than total bill amount is Rs.3500\n",
        "(For example if input unit is 97 than total bill amount is Rs.0\n",
        "(For example if input unit is 150 than total bill amount is Rs.750"
      ]
    },
    {
      "cell_type": "code",
      "execution_count": null,
      "metadata": {
        "colab": {
          "base_uri": "https://localhost:8080/"
        },
        "id": "he1rfK3kUxsS",
        "outputId": "10c9a4f7-3094-4238-e656-06245eaa70c3"
      },
      "outputs": [
        {
          "output_type": "stream",
          "name": "stdout",
          "text": [
            "Enter Unit Price : 350\n",
            "Unit Charge 350 Rs 10 per Unit 3500\n"
          ]
        }
      ],
      "source": [
        "Unit = int(input(\"Enter Unit Price : \"))\n",
        "if(Unit <= 100) : \n",
        "  print(\"No Charge\")\n",
        "elif(Unit >= 200 and Unit < 300) :\n",
        "  print(f\"Unit Charge {Unit} Rs 5 per Unit {5 * Unit}\")\n",
        "elif(Unit >= 300) :\n",
        "  print(f\"Unit Charge {Unit} Rs 10 per Unit {10 * Unit}\")"
      ]
    },
    {
      "cell_type": "raw",
      "metadata": {
        "id": "7ZOIr3sdUxsT"
      },
      "source": [
        "7) Write a program to display the last digit of a number.\n"
      ]
    },
    {
      "cell_type": "code",
      "execution_count": null,
      "metadata": {
        "colab": {
          "base_uri": "https://localhost:8080/"
        },
        "id": "uzPhpxm3UxsT",
        "outputId": "f061f406-32d4-4a7b-d624-8616c24d0c15"
      },
      "outputs": [
        {
          "output_type": "stream",
          "name": "stdout",
          "text": [
            "Please Enter any Number: 1023\n",
            "The Last Digit in a Given Number 1023 = 3\n"
          ]
        }
      ],
      "source": [
        "def lastDigit(num):\n",
        "    return num % 10\n",
        "\n",
        "number = int(input(\"Please Enter any Number: \"))\n",
        "\n",
        "last_digit = lastDigit(number)\n",
        "\n",
        "print(\"The Last Digit in a Given Number %d = %d\" %(number, last_digit))"
      ]
    },
    {
      "cell_type": "raw",
      "metadata": {
        "id": "0P4B_zrlUxsU"
      },
      "source": [
        "\n",
        "Q8. Write a program to check whether the last digit of a number( entered by user ) is \n",
        "divisible by 3 or not."
      ]
    },
    {
      "cell_type": "code",
      "execution_count": null,
      "metadata": {
        "colab": {
          "base_uri": "https://localhost:8080/"
        },
        "id": "SWjsgFp1UxsV",
        "outputId": "2a7cde32-2c1f-4089-be52-5cd1e03154f4"
      },
      "outputs": [
        {
          "output_type": "stream",
          "name": "stdout",
          "text": [
            "Please Enter any Number: 10249\n",
            "The Last Digit in a Given Number 10249 = 9\n",
            "Enter number is Multiple of 3\n"
          ]
        }
      ],
      "source": [
        "def lastDigit(num):\n",
        "    return num % 10\n",
        "\n",
        "number = int(input(\"Please Enter any Number: \"))\n",
        "\n",
        "last_digit = lastDigit(number)\n",
        "\n",
        "print(f\"The Last Digit in a Given Number {number} = {last_digit}\")\n",
        "\n",
        "if (last_digit%3) == 0: \n",
        "  print(\"Enter number is Multiple of 3\")\n",
        "else:\n",
        "  print(\"Enter number is not Multiple of 3\")"
      ]
    },
    {
      "cell_type": "raw",
      "metadata": {
        "id": "Lr2aE0-KUxsV"
      },
      "source": [
        "9) Take values of length and breadth of a rectangle from user and check if it is square or not."
      ]
    },
    {
      "cell_type": "code",
      "execution_count": null,
      "metadata": {
        "colab": {
          "base_uri": "https://localhost:8080/"
        },
        "id": "EBf7eRdaUxsW",
        "outputId": "6731e6b8-2e02-4861-8107-81e803ea1023"
      },
      "outputs": [
        {
          "output_type": "stream",
          "name": "stdout",
          "text": [
            "Enter Lenght : 12\n",
            "Enter Breath : 12\n",
            "it is square\n"
          ]
        }
      ],
      "source": [
        "Lenght = int(input(\"Enter Lenght : \"))\n",
        "Breath = int(input(\"Enter Breath : \"))\n",
        "if(Lenght == Breath):\n",
        "  print(\"it is square\")\n",
        "else:\n",
        "  print(\"it is not square\")"
      ]
    },
    {
      "cell_type": "raw",
      "metadata": {
        "id": "ELRZBXyfUxsX"
      },
      "source": [
        "10) Take two int values from user and print greatest among them."
      ]
    },
    {
      "cell_type": "code",
      "execution_count": null,
      "metadata": {
        "colab": {
          "base_uri": "https://localhost:8080/"
        },
        "id": "GXedIyDdUxsX",
        "outputId": "0db648b3-9646-4add-9198-1322a435648e"
      },
      "outputs": [
        {
          "output_type": "stream",
          "name": "stdout",
          "text": [
            "Enter Number 1 : 180\n",
            "Enter Number 2 : 220\n",
            "Number 2 is greater than Number 1\n"
          ]
        }
      ],
      "source": [
        "num1 = int(input(\"Enter Number 1 : \"))\n",
        "num2 = int(input(\"Enter Number 2 : \"))\n",
        "if(num1 > num2) :\n",
        "  print(\"Number 1 is greater than Number 2\")\n",
        "else:\n",
        "  print(\"Number 2 is greater than Number 1\")"
      ]
    },
    {
      "cell_type": "raw",
      "metadata": {
        "id": "m5CkERL0UxsY"
      },
      "source": [
        "11) A shop will give discount of 10% if the cost of purchased quantity is more than 1000.\n",
        "Ask user for quantity\n",
        "Suppose, one unit will cost 100.\n",
        "Judge and print total cost for user."
      ]
    },
    {
      "cell_type": "code",
      "execution_count": null,
      "metadata": {
        "colab": {
          "base_uri": "https://localhost:8080/"
        },
        "id": "i4-er-G4UxsZ",
        "outputId": "24a1a732-350e-4a7b-9906-ccd138aa0cc4"
      },
      "outputs": [
        {
          "output_type": "stream",
          "name": "stdout",
          "text": [
            "Enter unit : 11\n",
            "Total : 990.0\n"
          ]
        }
      ],
      "source": [
        "Unit = int(input(\"Enter unit : \"))\n",
        "Total = Unit * 100\n",
        "Discount = None\n",
        "if(Total > 1000) :\n",
        "  Discount = Total * 10/100\n",
        "  Total = Total - Discount\n",
        "print(f\"Total : {Total}\");"
      ]
    },
    {
      "cell_type": "raw",
      "metadata": {
        "id": "0nsh60F_UxsZ"
      },
      "source": [
        "12) A school has following rules for grading system:\n",
        "\n",
        "a. Below 25 - F\n",
        "\n",
        "b. 25 to 45 - E\n",
        "\n",
        "c. 45 to 50 - D\n",
        "\n",
        "d. 50 to 60 - C\n",
        "\n",
        "e. 60 to 80 - B\n",
        "\n",
        "f. Above 80 - A\n",
        "\n",
        "Ask user to enter marks and print the corresponding grade."
      ]
    },
    {
      "cell_type": "code",
      "execution_count": null,
      "metadata": {
        "colab": {
          "base_uri": "https://localhost:8080/"
        },
        "id": "_Gs7AqE2Uxsa",
        "outputId": "ec7e57a8-969f-4d7a-bfa6-9dfa80294146"
      },
      "outputs": [
        {
          "output_type": "stream",
          "name": "stdout",
          "text": [
            "Enter Percentile : 60\n",
            "C\n"
          ]
        }
      ],
      "source": [
        "Percentile = int(input(\"Enter Percentile : \"))\n",
        "Grade = None\n",
        "if Percentile > 80:\n",
        "  Grade = \"A\"\n",
        "elif Percentile >= 61 and Percentile <= 80:\n",
        "  Grade = \"B\"\n",
        "elif Percentile >= 51 and Percentile <= 60:\n",
        "  Grade = \"C\"\n",
        "elif Percentile >= 45 and Percentile <= 50:\n",
        "  Grade = \"D\"\n",
        "elif Percentile >= 25 and Percentile <= 44:\n",
        "  Grade = \"E\"\n",
        "else:\n",
        "  Grade = \"F\"\n",
        "print(Grade)"
      ]
    },
    {
      "cell_type": "raw",
      "metadata": {
        "id": "8kTRs5PbUxsb"
      },
      "source": [
        "13) Take input of age of 3 people by user and determine oldest and youngest among them."
      ]
    },
    {
      "cell_type": "code",
      "execution_count": null,
      "metadata": {
        "colab": {
          "base_uri": "https://localhost:8080/"
        },
        "id": "JJJaJN3vUxsb",
        "outputId": "3f786897-9400-4db1-c034-d581a33f52df"
      },
      "outputs": [
        {
          "output_type": "stream",
          "name": "stdout",
          "text": [
            "Enter 1 Person Age : 14\n",
            "Enter 2 Person Age : 20\n",
            "Enter 3 Person Age : 23\n",
            "3 Person age is greater\n"
          ]
        }
      ],
      "source": [
        "Person1 = int(input(\"Enter 1 Person Age : \"))\n",
        "Person2 = int(input(\"Enter 2 Person Age : \"))\n",
        "Person3 = int(input(\"Enter 3 Person Age : \"))\n",
        "if(Person1 > Person2 and Person1 > Person3):\n",
        "  print(\"1 Person age is greater\")\n",
        "elif(Person2 > Person1 and Person2 > Person3):\n",
        "  print(\"2 Person age is greater\")\n",
        "elif(Person3 > Person2 and Person3 > Person1):\n",
        "  print(\"3 Person age is greater\")"
      ]
    },
    {
      "cell_type": "raw",
      "metadata": {
        "id": "fkFa5GsOUxsc"
      },
      "source": [
        "14)A student will not be allowed to sit in exam if his/her attendence is less than 75%.\n",
        "\n",
        "Take following input from user\n",
        "\n",
        "Number of classes held\n",
        "\n",
        "Number of classes attended.\n",
        "\n",
        "And print\n",
        "\n",
        "percentage of class attended\n",
        "\n",
        "Is student is allowed to sit in exam or not.\n"
      ]
    },
    {
      "cell_type": "code",
      "execution_count": null,
      "metadata": {
        "colab": {
          "base_uri": "https://localhost:8080/"
        },
        "id": "siK5ZBfRUxsc",
        "outputId": "79cece86-2370-4c6a-9421-132aac280df6"
      },
      "outputs": [
        {
          "output_type": "stream",
          "name": "stdout",
          "text": [
            "Enter total classes held : 150\n",
            "Enter classes attended by student :120\n",
            "Student is allowed to sit in exam because his/her percentage is above 75\n"
          ]
        }
      ],
      "source": [
        "    totalClasses = int(input(\"Enter total classes held : \"))\n",
        "    classesAttended = int(input(\"Enter classes attended by student :\"))\n",
        "\n",
        "    if (classesAttended <= totalClasses):\n",
        "        percentage = (classesAttended / totalClasses) * 100;\n",
        "        if ((percentage < 75) and (percentage >= 0)): \n",
        "          print(\"Student is not allowed to sit in exam because his/her percentage is below 75\")\n",
        "        else:\n",
        "         print(\"Student is allowed to sit in exam because his/her percentage is above 75\")\n",
        "    else:\n",
        "        print(\"Attended classes cannot be more than total classes held!\")"
      ]
    },
    {
      "cell_type": "raw",
      "metadata": {
        "id": "qIyzntrBUxsc"
      },
      "source": [
        "15) Modify the above question to allow student to sit if he/she has medical cause. Ask user if he/she has medical cause or not ( 'Y' or 'N' ) and print accordingly."
      ]
    },
    {
      "cell_type": "code",
      "execution_count": null,
      "metadata": {
        "colab": {
          "base_uri": "https://localhost:8080/"
        },
        "id": "WsARVrBWUxsd",
        "outputId": "88ccd1ea-c1cf-47d0-8dd3-12167e1dcd27"
      },
      "outputs": [
        {
          "output_type": "stream",
          "name": "stdout",
          "text": [
            "Number of classes held150\n",
            "Number of classes attended100\n",
            "Attendence is 66.66666666666666\n",
            "Medical cause? Y or Ny\n",
            "You are allowed\n"
          ]
        }
      ],
      "source": [
        "noh = float(input(\"Number of classes held\"))\n",
        "noa = float(input(\"Number of classes attended\"))\n",
        "atten = (noa/noh)*100\n",
        "print(f\"Attendence is {atten}\")\n",
        "\n",
        "medical_cause = input(\"Medical cause? Y or N\").upper()\n",
        "\n",
        "if medical_cause == 'Y':\n",
        "  print(\"You are allowed\")\n",
        "else:\n",
        "  if atten>=75:\n",
        "    print(\"Allowed\")\n",
        "  else:\n",
        "    print(\"Not allowed\")"
      ]
    },
    {
      "cell_type": "raw",
      "metadata": {
        "id": "R8lFKqhJUxsd"
      },
      "source": [
        "16) Write a program to check if a year is leap year or not.\n",
        "\n",
        "If a year is divisible by 4 then it is leap year but if the year is century year like 2000, 1900, 2100 then it must be divisible by 400."
      ]
    },
    {
      "cell_type": "code",
      "execution_count": null,
      "metadata": {
        "colab": {
          "base_uri": "https://localhost:8080/"
        },
        "id": "SxWcHVxgUxsd",
        "outputId": "772c95bc-524d-41a5-9142-e95305175e6e"
      },
      "outputs": [
        {
          "output_type": "stream",
          "name": "stdout",
          "text": [
            "Enter a year: 2000\n",
            " is a leap year.\n"
          ]
        }
      ],
      "source": [
        "year = int(input(\"Enter a year: \"));\n",
        "if (year % 400 == 0) :\n",
        "    print(f\" is a leap year.\")\n",
        "elif (year % 100 == 0) :\n",
        "    print(\" is not a leap year.\")\n",
        "elif (year % 4 == 0) :\n",
        "    print(\" is a leap year.\")\n",
        "else :\n",
        "    print(\" is not a leap year.\")"
      ]
    },
    {
      "cell_type": "raw",
      "metadata": {
        "id": "B0ahZa5vUxse"
      },
      "source": [
        "17) Ask user to enter age, gender ( M or F ), marital status ( Y or N ) and then using following rules print their place of service.\n",
        "\n",
        "if employee is female, then she will work only in urban areas.\n",
        "\n",
        "if employee is a male and age is in between 20 to 40 then he may work in anywhere\n",
        "\n",
        "if employee is male and age is in between 40 t0 60 then he will work in urban areas only.\n",
        "\n",
        "And any other input of age should print \"ERROR\""
      ]
    },
    {
      "cell_type": "code",
      "execution_count": 54,
      "metadata": {
        "id": "by3E2pp7Uxse",
        "colab": {
          "base_uri": "https://localhost:8080/"
        },
        "outputId": "a5965d27-a1d2-4e2c-b72c-c2e7070fe0be"
      },
      "outputs": [
        {
          "name": "stdout",
          "output_type": "stream",
          "text": [
            "Enter age18\n",
            "Enter sex: M/Fm\n",
            "Are you married? Y/Nn\n"
          ]
        }
      ],
      "source": [
        "Age = int(input(\"Enter age\"))\n",
        "sex = input(\"Enter sex: M/F\").upper()\n",
        "married = input(\"Are you married? Y/N\").upper()\n",
        "\n",
        "if(sex == 'F') :\n",
        "  print(\"You will work only in urban areas\");\n",
        "elif(sex == 'M') :\n",
        "  if((age >= 20) and (age < 40)) :\n",
        "    print(\"You may work anywhere\");\n",
        "  elif((age >= 40) and (age < 60)) :\n",
        "    print(\"You will work only in urban areas\");\n",
        "  \n",
        "else :\n",
        "    print(\"ERROR\");"
      ]
    }
  ],
  "metadata": {
    "kernelspec": {
      "display_name": "Python 3",
      "language": "python",
      "name": "python3"
    },
    "language_info": {
      "codemirror_mode": {
        "name": "ipython",
        "version": 3
      },
      "file_extension": ".py",
      "mimetype": "text/x-python",
      "name": "python",
      "nbconvert_exporter": "python",
      "pygments_lexer": "ipython3",
      "version": "3.7.4"
    },
    "colab": {
      "name": "If then Else &Elif Practice Task .ipynb",
      "provenance": [],
      "collapsed_sections": [],
      "include_colab_link": true
    }
  },
  "nbformat": 4,
  "nbformat_minor": 0
}
