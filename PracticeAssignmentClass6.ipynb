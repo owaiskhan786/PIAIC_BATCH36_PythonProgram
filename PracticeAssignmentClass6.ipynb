{
  "cells": [
    {
      "cell_type": "markdown",
      "metadata": {
        "id": "view-in-github",
        "colab_type": "text"
      },
      "source": [
        "<a href=\"https://colab.research.google.com/github/owaiskhan786/PIAIC_BATCH36_PythonProgram/blob/main/PracticeAssignmentClass6.ipynb\" target=\"_parent\"><img src=\"https://colab.research.google.com/assets/colab-badge.svg\" alt=\"Open In Colab\"/></a>"
      ]
    },
    {
      "cell_type": "markdown",
      "id": "b5ec9d3e",
      "metadata": {
        "id": "b5ec9d3e"
      },
      "source": [
        "### Task1:\n",
        "You need to code a program that prints numbers from 1 to 20 except multiple of 2 & 3.\n",
        "\n",
        "Hint: use \"modulo\" operator and \"and/or\" operators"
      ]
    },
    {
      "cell_type": "code",
      "execution_count": null,
      "id": "a94f69b5",
      "metadata": {
        "id": "a94f69b5",
        "colab": {
          "base_uri": "https://localhost:8080/"
        },
        "outputId": "9b1bf078-edb0-4598-c35c-71c62ecab609"
      },
      "outputs": [
        {
          "output_type": "stream",
          "name": "stdout",
          "text": [
            "1\n",
            "5\n",
            "7\n",
            "11\n",
            "13\n",
            "17\n",
            "19\n"
          ]
        }
      ],
      "source": [
        "for i in range(1,20):\n",
        "  if i % 3 == 0 or i % 2 == 0:\n",
        "        continue\n",
        "  else:\n",
        "    print(i)"
      ]
    },
    {
      "cell_type": "markdown",
      "id": "b123a205",
      "metadata": {
        "id": "b123a205"
      },
      "source": [
        "### Task2:\n",
        "Write a program that keep on accepting number from the user until user enters Zero. Display the sum and average of all the numbers.\n",
        "\n",
        "Hint: Use while loop with flag. "
      ]
    },
    {
      "cell_type": "code",
      "execution_count": null,
      "id": "29296c1c",
      "metadata": {
        "id": "29296c1c",
        "colab": {
          "base_uri": "https://localhost:8080/"
        },
        "outputId": "212298a3-72c1-4c38-f4a8-79325cc837ab"
      },
      "outputs": [
        {
          "output_type": "stream",
          "name": "stdout",
          "text": [
            "Enter Number :2\n",
            "Enter Number :6\n",
            "Enter Number :4\n",
            "Enter Number :8\n",
            "Enter Number :9\n",
            "Enter Number :0\n",
            "Average and Sum of the above numbers are:  5.8 29.0\n"
          ]
        }
      ],
      "source": [
        "count = 0\n",
        "sum = 0.0\n",
        "number = 1\n",
        "\n",
        "while number != 0:\n",
        "\tnumber = int(input(\"Enter Number :\"))\n",
        "\tsum = sum + number\n",
        "\tcount += 1\n",
        "\n",
        "if count == 0:\n",
        "\tprint(\"Input some numbers\")\n",
        "else:\n",
        "\tprint(\"Average and Sum of the above numbers are: \", sum / (count-1), sum)"
      ]
    },
    {
      "cell_type": "markdown",
      "id": "9ea5024e",
      "metadata": {
        "id": "9ea5024e"
      },
      "source": [
        "### Task3:\n",
        "Accept 10 numbers from the user and display their average.\n",
        "\n",
        "Hint: Use loop for accepting numbers or use split to take input in one go"
      ]
    },
    {
      "cell_type": "code",
      "execution_count": null,
      "id": "5bebbbe8",
      "metadata": {
        "id": "5bebbbe8",
        "colab": {
          "base_uri": "https://localhost:8080/"
        },
        "outputId": "4c4bba0a-35d3-4ff6-d1d1-bbddd71d39c9"
      },
      "outputs": [
        {
          "output_type": "stream",
          "name": "stdout",
          "text": [
            "Enter Number : 1\n",
            "Enter Number : 2\n",
            "Enter Number : 3\n",
            "Enter Number : 4\n",
            "Enter Number : 5\n",
            "Enter Number : 6\n",
            "Enter Number : 7\n",
            "Enter Number : 8\n",
            "Enter Number : 9\n",
            "Enter Number : 10\n",
            "Average and Sum of the above numbers are:  6.111111111111111 55.0\n"
          ]
        }
      ],
      "source": [
        "count = 0\n",
        "sum = 0.0\n",
        "for i in range(0,10):\n",
        "  number = int(input(\"Enter Number : \"))\n",
        "  sum = sum + number\n",
        "  count += 1\n",
        "\n",
        "if count == 0:\n",
        "\tprint(\"Input some numbers\")\n",
        "else:\n",
        "\tprint(\"Average and Sum of the above numbers are: \", sum / (count-1), sum)"
      ]
    },
    {
      "cell_type": "markdown",
      "id": "e17466dd",
      "metadata": {
        "id": "e17466dd"
      },
      "source": [
        "### Task4:\n",
        "Write a program to display sum of odd numbers and even numbers that fall between 12 and 37(including both numbers)\n"
      ]
    },
    {
      "cell_type": "code",
      "execution_count": null,
      "id": "d5715b5c",
      "metadata": {
        "id": "d5715b5c",
        "colab": {
          "base_uri": "https://localhost:8080/"
        },
        "outputId": "6f507035-cfef-4cb5-83e9-7592a6e3b94b"
      },
      "outputs": [
        {
          "output_type": "stream",
          "name": "stdout",
          "text": [
            "The Sum of Even Numbers from 12 to 37 = 312\n",
            "The Sum of Odd Numbers from 12 to 37 = 288\n"
          ]
        }
      ],
      "source": [
        "even_total = 0\n",
        "odd_total= 0\n",
        "for number in range(12, 37):\n",
        "    if(number % 2 == 0):\n",
        "        even_total = even_total + number\n",
        "    else:\n",
        "        odd_total = odd_total + number\n",
        " \n",
        "print(\"The Sum of Even Numbers from 12 to 37 = {1}\".format(number, even_total))\n",
        "print(\"The Sum of Odd Numbers from 12 to 37 = {1}\".format(number, odd_total))"
      ]
    },
    {
      "cell_type": "markdown",
      "id": "4c64217d",
      "metadata": {
        "id": "4c64217d"
      },
      "source": [
        "### Task5:\n",
        "Write a program to print table of a number accepted from user.\n"
      ]
    },
    {
      "cell_type": "raw",
      "id": "0bf864bf",
      "metadata": {
        "id": "0bf864bf"
      },
      "source": [
        "\n",
        "Output: \n",
        "7 * 1 = 7\n",
        "7 * 2 = 14\n",
        "7 * 3 = 21\n",
        "7 * 4 = 28\n",
        "7 * 5 = 35\n",
        "7 * 6 = 42\n",
        "7 * 7 = 49\n",
        "7 * 8 = 56\n",
        "7 * 9 = 63\n",
        "7 * 10 = 70\n",
        "           "
      ]
    },
    {
      "cell_type": "code",
      "execution_count": null,
      "id": "3305bb3d",
      "metadata": {
        "id": "3305bb3d",
        "colab": {
          "base_uri": "https://localhost:8080/"
        },
        "outputId": "134f27ea-6420-4ec0-9dd6-4fba3c137771"
      },
      "outputs": [
        {
          "output_type": "stream",
          "name": "stdout",
          "text": [
            "Enter Number7\n",
            "7 x 1 = 7\n",
            "7 x 2 = 14\n",
            "7 x 3 = 21\n",
            "7 x 4 = 28\n",
            "7 x 5 = 35\n",
            "7 x 6 = 42\n",
            "7 x 7 = 49\n",
            "7 x 8 = 56\n",
            "7 x 9 = 63\n",
            "7 x 10 = 70\n"
          ]
        }
      ],
      "source": [
        "Number = int(input(\"Enter Number\"))\n",
        "for i in range(1,11):\n",
        "  print(f\"{Number} x {i} = {Number * i}\")\n"
      ]
    },
    {
      "cell_type": "markdown",
      "id": "fc08df86",
      "metadata": {
        "id": "fc08df86"
      },
      "source": [
        "### Task6:\n",
        "Write a program to display product of the digits of a number accepted from the user.\n",
        "\n",
        "If user inputs:123 Outputs 6\n",
        "\n",
        "If user inputs: 567 Outputs 210"
      ]
    },
    {
      "cell_type": "code",
      "execution_count": null,
      "id": "e793d4c9",
      "metadata": {
        "id": "e793d4c9",
        "colab": {
          "base_uri": "https://localhost:8080/"
        },
        "outputId": "d2152784-8df0-43d9-e026-eb8f4c8220cd"
      },
      "outputs": [
        {
          "output_type": "stream",
          "name": "stdout",
          "text": [
            "Enter Number : 589\n",
            " Sum : 22\n"
          ]
        }
      ],
      "source": [
        "Task_number = input(\"Enter Number : \")\n",
        "sum = 0\n",
        "for i in Task_number:\n",
        "    sum = sum + int(i)\n",
        "print(f\" Sum : {sum}\")"
      ]
    },
    {
      "cell_type": "markdown",
      "id": "f041397e",
      "metadata": {
        "id": "f041397e"
      },
      "source": [
        "### Task7: \n",
        "Write a program to print first 10 even numbers in reverse order."
      ]
    },
    {
      "cell_type": "code",
      "execution_count": null,
      "id": "b639f15e",
      "metadata": {
        "id": "b639f15e",
        "colab": {
          "base_uri": "https://localhost:8080/"
        },
        "outputId": "a5168da0-9cca-4e27-dce6-3676f14e4743"
      },
      "outputs": [
        {
          "output_type": "stream",
          "name": "stdout",
          "text": [
            "[2]\n",
            "[2, 4]\n",
            "[2, 4, 6]\n",
            "[2, 4, 6, 8]\n",
            "[2, 4, 6, 8, 10]\n",
            "[2, 4, 6, 8, 10, 12]\n",
            "[2, 4, 6, 8, 10, 12, 14]\n",
            "[2, 4, 6, 8, 10, 12, 14, 16]\n",
            "[2, 4, 6, 8, 10, 12, 14, 16, 18]\n",
            "[18, 16, 14, 12, 10, 8, 6, 4, 2]\n"
          ]
        }
      ],
      "source": [
        "arr = []\n",
        "for i in range(1,20):\n",
        "  if i%2 == 0:\n",
        "    arr.append(i)\n",
        "    print(arr)\n",
        "arr.reverse()\n",
        "\n",
        "print(arr)"
      ]
    },
    {
      "cell_type": "markdown",
      "id": "37b679bb",
      "metadata": {
        "id": "37b679bb"
      },
      "source": [
        "### Task8:\n",
        "Write a program to find the sum of the digits of a number accepted from user\n",
        "\n",
        "If user inputs:123 Outputs 6\n",
        "\n",
        "If user inputs: 567 Outputs 18"
      ]
    },
    {
      "cell_type": "code",
      "execution_count": null,
      "id": "adef66ce",
      "metadata": {
        "id": "adef66ce",
        "colab": {
          "base_uri": "https://localhost:8080/"
        },
        "outputId": "56dcfe81-5cc7-498d-b65f-a489a58ab2db"
      },
      "outputs": [
        {
          "output_type": "stream",
          "name": "stdout",
          "text": [
            "Enter Number : 567\n",
            " Sum : 18\n"
          ]
        }
      ],
      "source": [
        "Task_number = input(\"Enter Number : \")\n",
        "sum = 0\n",
        "for i in Task_number:\n",
        "    sum = sum + int(i)\n",
        "print(f\" Sum : {sum}\")"
      ]
    },
    {
      "cell_type": "markdown",
      "id": "8b87f377",
      "metadata": {
        "id": "8b87f377"
      },
      "source": [
        "### Task9:\n",
        "Write a program that accepts a sentence and calculate the number of letters and digits.\n",
        "\n",
        "Suppose the following input is supplied to the program:\n",
        "\n",
        "hello world! 123\n",
        "\n",
        "Then, the output should be:\n",
        "\n",
        "LETTERS 10\n",
        "\n",
        "DIGITS 3\n"
      ]
    },
    {
      "cell_type": "code",
      "execution_count": null,
      "id": "73835ab3",
      "metadata": {
        "id": "73835ab3",
        "colab": {
          "base_uri": "https://localhost:8080/"
        },
        "outputId": "ea25c770-3141-4ffc-d3ce-98f2a068758f"
      },
      "outputs": [
        {
          "output_type": "stream",
          "name": "stdout",
          "text": [
            "Enter Sentence : hello world! 123\n",
            "Letter : 13\n",
            "Digit : 3\n"
          ]
        }
      ],
      "source": [
        "Number_Count = 0\n",
        "Letter_Count = 0\n",
        "Task_sentence = input(\"Enter Sentence : \")\n",
        "for i in Task_sentence:\n",
        "  if i.isdigit():\n",
        "    Number_Count += 1\n",
        "  else:\n",
        "    Letter_Count += 1\n",
        "print(f\"Letter : {Letter_Count}\")\n",
        "print(f\"Digit : {Number_Count}\")"
      ]
    },
    {
      "cell_type": "markdown",
      "id": "a25b412b",
      "metadata": {
        "id": "a25b412b"
      },
      "source": [
        "### Task10: \n",
        "You need to trace and make a list of all such numbers from1000 to 3000 in which all the digits are even numbers."
      ]
    },
    {
      "cell_type": "code",
      "execution_count": 38,
      "id": "a3c27a5e",
      "metadata": {
        "id": "a3c27a5e",
        "colab": {
          "base_uri": "https://localhost:8080/"
        },
        "outputId": "1dc743ff-14fe-4831-f8a3-f151a2a92d10"
      },
      "outputs": [
        {
          "output_type": "stream",
          "name": "stdout",
          "text": [
            "[1000, 1002, 1004, 1006, 1008, 1010, 1012, 1014, 1016, 1018, 1020, 1022, 1024, 1026, 1028, 1030, 1032, 1034, 1036, 1038, 1040, 1042, 1044, 1046, 1048, 1050, 1052, 1054, 1056, 1058, 1060, 1062, 1064, 1066, 1068, 1070, 1072, 1074, 1076, 1078, 1080, 1082, 1084, 1086, 1088, 1090, 1092, 1094, 1096, 1098, 1100, 1102, 1104, 1106, 1108, 1110, 1112, 1114, 1116, 1118, 1120, 1122, 1124, 1126, 1128, 1130, 1132, 1134, 1136, 1138, 1140, 1142, 1144, 1146, 1148, 1150, 1152, 1154, 1156, 1158, 1160, 1162, 1164, 1166, 1168, 1170, 1172, 1174, 1176, 1178, 1180, 1182, 1184, 1186, 1188, 1190, 1192, 1194, 1196, 1198, 1200, 1202, 1204, 1206, 1208, 1210, 1212, 1214, 1216, 1218, 1220, 1222, 1224, 1226, 1228, 1230, 1232, 1234, 1236, 1238, 1240, 1242, 1244, 1246, 1248, 1250, 1252, 1254, 1256, 1258, 1260, 1262, 1264, 1266, 1268, 1270, 1272, 1274, 1276, 1278, 1280, 1282, 1284, 1286, 1288, 1290, 1292, 1294, 1296, 1298, 1300, 1302, 1304, 1306, 1308, 1310, 1312, 1314, 1316, 1318, 1320, 1322, 1324, 1326, 1328, 1330, 1332, 1334, 1336, 1338, 1340, 1342, 1344, 1346, 1348, 1350, 1352, 1354, 1356, 1358, 1360, 1362, 1364, 1366, 1368, 1370, 1372, 1374, 1376, 1378, 1380, 1382, 1384, 1386, 1388, 1390, 1392, 1394, 1396, 1398, 1400, 1402, 1404, 1406, 1408, 1410, 1412, 1414, 1416, 1418, 1420, 1422, 1424, 1426, 1428, 1430, 1432, 1434, 1436, 1438, 1440, 1442, 1444, 1446, 1448, 1450, 1452, 1454, 1456, 1458, 1460, 1462, 1464, 1466, 1468, 1470, 1472, 1474, 1476, 1478, 1480, 1482, 1484, 1486, 1488, 1490, 1492, 1494, 1496, 1498, 1500, 1502, 1504, 1506, 1508, 1510, 1512, 1514, 1516, 1518, 1520, 1522, 1524, 1526, 1528, 1530, 1532, 1534, 1536, 1538, 1540, 1542, 1544, 1546, 1548, 1550, 1552, 1554, 1556, 1558, 1560, 1562, 1564, 1566, 1568, 1570, 1572, 1574, 1576, 1578, 1580, 1582, 1584, 1586, 1588, 1590, 1592, 1594, 1596, 1598, 1600, 1602, 1604, 1606, 1608, 1610, 1612, 1614, 1616, 1618, 1620, 1622, 1624, 1626, 1628, 1630, 1632, 1634, 1636, 1638, 1640, 1642, 1644, 1646, 1648, 1650, 1652, 1654, 1656, 1658, 1660, 1662, 1664, 1666, 1668, 1670, 1672, 1674, 1676, 1678, 1680, 1682, 1684, 1686, 1688, 1690, 1692, 1694, 1696, 1698, 1700, 1702, 1704, 1706, 1708, 1710, 1712, 1714, 1716, 1718, 1720, 1722, 1724, 1726, 1728, 1730, 1732, 1734, 1736, 1738, 1740, 1742, 1744, 1746, 1748, 1750, 1752, 1754, 1756, 1758, 1760, 1762, 1764, 1766, 1768, 1770, 1772, 1774, 1776, 1778, 1780, 1782, 1784, 1786, 1788, 1790, 1792, 1794, 1796, 1798, 1800, 1802, 1804, 1806, 1808, 1810, 1812, 1814, 1816, 1818, 1820, 1822, 1824, 1826, 1828, 1830, 1832, 1834, 1836, 1838, 1840, 1842, 1844, 1846, 1848, 1850, 1852, 1854, 1856, 1858, 1860, 1862, 1864, 1866, 1868, 1870, 1872, 1874, 1876, 1878, 1880, 1882, 1884, 1886, 1888, 1890, 1892, 1894, 1896, 1898, 1900, 1902, 1904, 1906, 1908, 1910, 1912, 1914, 1916, 1918, 1920, 1922, 1924, 1926, 1928, 1930, 1932, 1934, 1936, 1938, 1940, 1942, 1944, 1946, 1948, 1950, 1952, 1954, 1956, 1958, 1960, 1962, 1964, 1966, 1968, 1970, 1972, 1974, 1976, 1978, 1980, 1982, 1984, 1986, 1988, 1990, 1992, 1994, 1996, 1998, 2000, 2002, 2004, 2006, 2008, 2010, 2012, 2014, 2016, 2018, 2020, 2022, 2024, 2026, 2028, 2030, 2032, 2034, 2036, 2038, 2040, 2042, 2044, 2046, 2048, 2050, 2052, 2054, 2056, 2058, 2060, 2062, 2064, 2066, 2068, 2070, 2072, 2074, 2076, 2078, 2080, 2082, 2084, 2086, 2088, 2090, 2092, 2094, 2096, 2098, 2100, 2102, 2104, 2106, 2108, 2110, 2112, 2114, 2116, 2118, 2120, 2122, 2124, 2126, 2128, 2130, 2132, 2134, 2136, 2138, 2140, 2142, 2144, 2146, 2148, 2150, 2152, 2154, 2156, 2158, 2160, 2162, 2164, 2166, 2168, 2170, 2172, 2174, 2176, 2178, 2180, 2182, 2184, 2186, 2188, 2190, 2192, 2194, 2196, 2198, 2200, 2202, 2204, 2206, 2208, 2210, 2212, 2214, 2216, 2218, 2220, 2222, 2224, 2226, 2228, 2230, 2232, 2234, 2236, 2238, 2240, 2242, 2244, 2246, 2248, 2250, 2252, 2254, 2256, 2258, 2260, 2262, 2264, 2266, 2268, 2270, 2272, 2274, 2276, 2278, 2280, 2282, 2284, 2286, 2288, 2290, 2292, 2294, 2296, 2298, 2300, 2302, 2304, 2306, 2308, 2310, 2312, 2314, 2316, 2318, 2320, 2322, 2324, 2326, 2328, 2330, 2332, 2334, 2336, 2338, 2340, 2342, 2344, 2346, 2348, 2350, 2352, 2354, 2356, 2358, 2360, 2362, 2364, 2366, 2368, 2370, 2372, 2374, 2376, 2378, 2380, 2382, 2384, 2386, 2388, 2390, 2392, 2394, 2396, 2398, 2400, 2402, 2404, 2406, 2408, 2410, 2412, 2414, 2416, 2418, 2420, 2422, 2424, 2426, 2428, 2430, 2432, 2434, 2436, 2438, 2440, 2442, 2444, 2446, 2448, 2450, 2452, 2454, 2456, 2458, 2460, 2462, 2464, 2466, 2468, 2470, 2472, 2474, 2476, 2478, 2480, 2482, 2484, 2486, 2488, 2490, 2492, 2494, 2496, 2498, 2500, 2502, 2504, 2506, 2508, 2510, 2512, 2514, 2516, 2518, 2520, 2522, 2524, 2526, 2528, 2530, 2532, 2534, 2536, 2538, 2540, 2542, 2544, 2546, 2548, 2550, 2552, 2554, 2556, 2558, 2560, 2562, 2564, 2566, 2568, 2570, 2572, 2574, 2576, 2578, 2580, 2582, 2584, 2586, 2588, 2590, 2592, 2594, 2596, 2598, 2600, 2602, 2604, 2606, 2608, 2610, 2612, 2614, 2616, 2618, 2620, 2622, 2624, 2626, 2628, 2630, 2632, 2634, 2636, 2638, 2640, 2642, 2644, 2646, 2648, 2650, 2652, 2654, 2656, 2658, 2660, 2662, 2664, 2666, 2668, 2670, 2672, 2674, 2676, 2678, 2680, 2682, 2684, 2686, 2688, 2690, 2692, 2694, 2696, 2698, 2700, 2702, 2704, 2706, 2708, 2710, 2712, 2714, 2716, 2718, 2720, 2722, 2724, 2726, 2728, 2730, 2732, 2734, 2736, 2738, 2740, 2742, 2744, 2746, 2748, 2750, 2752, 2754, 2756, 2758, 2760, 2762, 2764, 2766, 2768, 2770, 2772, 2774, 2776, 2778, 2780, 2782, 2784, 2786, 2788, 2790, 2792, 2794, 2796, 2798, 2800, 2802, 2804, 2806, 2808, 2810, 2812, 2814, 2816, 2818, 2820, 2822, 2824, 2826, 2828, 2830, 2832, 2834, 2836, 2838, 2840, 2842, 2844, 2846, 2848, 2850, 2852, 2854, 2856, 2858, 2860, 2862, 2864, 2866, 2868, 2870, 2872, 2874, 2876, 2878, 2880, 2882, 2884, 2886, 2888, 2890, 2892, 2894, 2896, 2898, 2900, 2902, 2904, 2906, 2908, 2910, 2912, 2914, 2916, 2918, 2920, 2922, 2924, 2926, 2928, 2930, 2932, 2934, 2936, 2938, 2940, 2942, 2944, 2946, 2948, 2950, 2952, 2954, 2956, 2958, 2960, 2962, 2964, 2966, 2968, 2970, 2972, 2974, 2976, 2978, 2980, 2982, 2984, 2986, 2988, 2990, 2992, 2994, 2996, 2998]\n"
          ]
        }
      ],
      "source": [
        "arr = []\n",
        "for i in range(1000,3000):\n",
        "  if i%2 == 0:\n",
        "    arr.append(i)\n",
        "print(arr)"
      ]
    },
    {
      "cell_type": "markdown",
      "id": "ddc08744",
      "metadata": {
        "id": "ddc08744"
      },
      "source": [
        "### Task11: \n",
        "You need to write a program that counts the number of vowels in a given sentence as input from console. \n",
        "\n",
        "Suppose the following input is supplied to the program:\n",
        "\n",
        "Hello world! Practice makes perfect\n",
        "\n",
        "Then, the output should be:\n",
        "\n",
        "a appeared 2 times\n",
        "\n",
        "e appeared 5 times\n",
        "\n",
        "i appeared  1 time\n",
        "\n",
        "o appeared 2 times\n",
        "\n",
        "u appeared 0 time\n"
      ]
    },
    {
      "cell_type": "code",
      "execution_count": 9,
      "id": "0ed960fd",
      "metadata": {
        "id": "0ed960fd",
        "colab": {
          "base_uri": "https://localhost:8080/"
        },
        "outputId": "2b60db8d-8cf5-4847-dd73-1a0436111c37"
      },
      "outputs": [
        {
          "output_type": "stream",
          "name": "stdout",
          "text": [
            "Enter string:Hello world! Practice makes perfect\n",
            "Number of vowels are:\n",
            "10\n"
          ]
        }
      ],
      "source": [
        "string=input(\"Enter string:\")\n",
        "vowels=0\n",
        "for i in string:\n",
        "      if(i=='a' or i=='e' or i=='i' or i=='o' or i=='u' or i=='A' or i=='E' or i=='I' or i=='O' or i=='U'):\n",
        "            vowels=vowels+1\n",
        "print(\"Number of vowels are:\")\n",
        "print(vowels)"
      ]
    },
    {
      "cell_type": "markdown",
      "id": "45a0c3c4",
      "metadata": {
        "id": "45a0c3c4"
      },
      "source": [
        "### Task12:\n",
        "You need to write a program that takes sequence of lines as input and prints the lines after making all characters in the sentence capitalized.\n",
        "\n",
        "Suppose the following input is supplied to the program:\n",
        "\n",
        "Hello world\n",
        "\n",
        "Practice makes perfect\n",
        "\n",
        "Then, the output should be:\n",
        "\n",
        "HELLO WORLD\n",
        "PRACTICE MAKES PERFECT"
      ]
    },
    {
      "cell_type": "code",
      "execution_count": 4,
      "id": "029fc3d6",
      "metadata": {
        "id": "029fc3d6",
        "colab": {
          "base_uri": "https://localhost:8080/"
        },
        "outputId": "94ea86eb-2ebd-4354-a39a-bc537b936b8e"
      },
      "outputs": [
        {
          "output_type": "stream",
          "name": "stdout",
          "text": [
            "Hello world  Practice makes perfect\n",
            "\n",
            "HELLO WORLD  PRACTICE MAKES PERFECT\n"
          ]
        }
      ],
      "source": [
        "lines = []\n",
        "while True:\n",
        "    l = input()\n",
        "    if l:\n",
        "        lines.append(l.upper())\n",
        "    else:\n",
        "        break;\n",
        "\n",
        "for l in lines:\n",
        "    print(l)"
      ]
    },
    {
      "cell_type": "markdown",
      "id": "a374068f",
      "metadata": {
        "id": "a374068f"
      },
      "source": [
        "### Task13:\n",
        "You need to write a code that takes a comma separated sequence of words as input and prints the words in a comma-separated sequence after sorting them alphabetically.\n",
        "\n",
        "Suppose the following input is supplied to the program:\n",
        "\n",
        "without,hello,bag,world\n",
        "\n",
        "Then, the output should be:\n",
        "\n",
        "bag,hello,without,world"
      ]
    },
    {
      "cell_type": "code",
      "execution_count": 5,
      "id": "488509b9",
      "metadata": {
        "id": "488509b9",
        "colab": {
          "base_uri": "https://localhost:8080/"
        },
        "outputId": "2fc6c9b9-9867-47ea-8fae-498047f49c58"
      },
      "outputs": [
        {
          "output_type": "stream",
          "name": "stdout",
          "text": [
            "Input comma separated sequence of wordswithout,hello,bag,world\n",
            "bag,hello,without,world\n"
          ]
        }
      ],
      "source": [
        "items = input(\"Input comma separated sequence of words\")\n",
        "words = [word for word in items.split(\",\")]\n",
        "print(\",\".join(sorted(list(set(words)))))"
      ]
    },
    {
      "cell_type": "markdown",
      "id": "0d9422e7",
      "metadata": {
        "id": "0d9422e7"
      },
      "source": [
        "### Task14:\n",
        "You need code a program that calculates and prints the value according to the given formula:\n",
        "P = Square root of [(2 * A * B)/C]\n",
        "\n",
        "Following are the fixed values of A and B:\n",
        "\n",
        "A is 50. B is 30.\n",
        "\n",
        "The values of the literal C should be taken as console input to your program in a comma-separated sequence.\n",
        "\n",
        "Example:\n",
        "Let us assume the following comma separated input sequence is given to the program:\n",
        "100,150,180\n",
        "\n",
        "The output of the program should be:\n",
        "18,22,24"
      ]
    },
    {
      "cell_type": "code",
      "execution_count": 6,
      "id": "1b6731be",
      "metadata": {
        "id": "1b6731be",
        "colab": {
          "base_uri": "https://localhost:8080/"
        },
        "outputId": "be0cb07c-f05a-4e5f-87bb-000441bcf3ca"
      },
      "outputs": [
        {
          "output_type": "stream",
          "name": "stdout",
          "text": [
            "100,150,180\n",
            "18,22,24\n"
          ]
        }
      ],
      "source": [
        "import math\n",
        "c=50\n",
        "h=30\n",
        "value = []\n",
        "items=[x for x in input().split(',')]\n",
        "for d in items:\n",
        "    value.append(str(int(round(math.sqrt(2*c*float(d)/h)))))\n",
        "\n",
        "print(','.join(value))"
      ]
    },
    {
      "cell_type": "markdown",
      "id": "87f9f13d",
      "metadata": {
        "id": "87f9f13d"
      },
      "source": [
        "### Task15:\n",
        "You need to write a ocde in python that finds all such numbers which are divisible by 7 but are not a multiple of 5,\n",
        "between 2000 and 3200 (both included).\n",
        "\n",
        "Print the obtained numbers in a comma-separated sequence on a single line\n",
        "\n",
        "Hint: modulo operator, and/or operator, for loop /while loop"
      ]
    },
    {
      "cell_type": "code",
      "execution_count": null,
      "id": "ba3d9d96",
      "metadata": {
        "id": "ba3d9d96"
      },
      "outputs": [],
      "source": [
        "# Your code goes here"
      ]
    },
    {
      "cell_type": "markdown",
      "id": "f75c81d1",
      "metadata": {
        "id": "f75c81d1"
      },
      "source": [
        "### Task16:\n",
        "With a given integral number n, write a program to generate a dictionary that contains (i, i*i) such that is an integral number between 1 and n (both included). and then the program should print the dictionary.\n",
        "\n",
        "Suppose the following input is supplied to the program:\n",
        "\n",
        "8\n",
        "\n",
        "Then, the output should be:\n",
        "\n",
        "{1: 1, 2: 4, 3: 9, 4: 16, 5: 25, 6: 36, 7: 49, 8: 64}"
      ]
    },
    {
      "cell_type": "code",
      "execution_count": 7,
      "id": "451bacfc",
      "metadata": {
        "id": "451bacfc",
        "colab": {
          "base_uri": "https://localhost:8080/"
        },
        "outputId": "a57cfe98-811f-4de1-d73a-cc280f5dc634"
      },
      "outputs": [
        {
          "output_type": "stream",
          "name": "stdout",
          "text": [
            "Type a number: 8\n",
            "{1: 1, 2: 4, 3: 9, 4: 16, 5: 25, 6: 36, 7: 49, 8: 64}\n"
          ]
        }
      ],
      "source": [
        "number = int(input(\"Type a number: \"))\n",
        "\n",
        "numberDict = {}\n",
        "for i in range(1, number+1):\n",
        "    numberDict[i] = i*i\n",
        "\n",
        "print(numberDict)"
      ]
    },
    {
      "cell_type": "markdown",
      "id": "bd2b39a0",
      "metadata": {
        "id": "bd2b39a0"
      },
      "source": [
        "### Task17:\n",
        "You need to write a code which accepts a sequence of comma separated 4 digit binary numbers as its input and then check whether they are divisible by 5 or not. \n",
        "\n",
        "The numbers that are divisible by 5 are to be printed in a comma separated sequence.\n",
        "\n",
        "Example:\n",
        "\n",
        "0100,0011,1010,1001\n",
        "\n",
        "Then the output should be:\n",
        "1010\n",
        "\n",
        "Reference: \n",
        "1) https://www.datacamp.com/.../python-data-type-conversion\n",
        "\n",
        "2) https://stackoverflow.com/questions/21765779/converting-binary-to-decimal-integer-output?fbclid=IwAR3DD_oiq5pn99IjyxSJgojvB5W6M4JqQtv4EUl_IF_DtmuRXlP-DswcKAA"
      ]
    },
    {
      "cell_type": "code",
      "execution_count": 8,
      "id": "d88c2527",
      "metadata": {
        "id": "d88c2527",
        "colab": {
          "base_uri": "https://localhost:8080/"
        },
        "outputId": "3e681f12-c6eb-48b4-bc42-a245a6e7c037"
      },
      "outputs": [
        {
          "output_type": "stream",
          "name": "stdout",
          "text": [
            "0100,0011,1010,1001\n",
            "1010\n"
          ]
        }
      ],
      "source": [
        "items = []\n",
        "num = [x for x in input().split(',')]\n",
        "for p in num:\n",
        "    x = int(p, 2)\n",
        "    if not x%5:\n",
        "        items.append(p)\n",
        "print(','.join(items))"
      ]
    },
    {
      "cell_type": "code",
      "execution_count": null,
      "id": "aab14430",
      "metadata": {
        "id": "aab14430"
      },
      "outputs": [],
      "source": [
        ""
      ]
    }
  ],
  "metadata": {
    "kernelspec": {
      "display_name": "Python 3",
      "language": "python",
      "name": "python3"
    },
    "language_info": {
      "codemirror_mode": {
        "name": "ipython",
        "version": 3
      },
      "file_extension": ".py",
      "mimetype": "text/x-python",
      "name": "python",
      "nbconvert_exporter": "python",
      "pygments_lexer": "ipython3",
      "version": "3.7.4"
    },
    "colab": {
      "name": "PracticeAssignmentClass6.ipynb",
      "provenance": [],
      "collapsed_sections": [],
      "include_colab_link": true
    }
  },
  "nbformat": 4,
  "nbformat_minor": 5
}