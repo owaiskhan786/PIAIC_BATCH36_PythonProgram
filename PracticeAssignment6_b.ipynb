{
  "cells": [
    {
      "cell_type": "markdown",
      "metadata": {
        "id": "view-in-github",
        "colab_type": "text"
      },
      "source": [
        "<a href=\"https://colab.research.google.com/github/owaiskhan786/PIAIC_BATCH36_PythonProgram/blob/main/PracticeAssignment6_b.ipynb\" target=\"_parent\"><img src=\"https://colab.research.google.com/assets/colab-badge.svg\" alt=\"Open In Colab\"/></a>"
      ]
    },
    {
      "cell_type": "markdown",
      "id": "ac6f64a4",
      "metadata": {
        "id": "ac6f64a4"
      },
      "source": [
        "##### Task1: Mean \n",
        "Breifly decribe the term <b>Mean</b> (<i>dont write formula that sum of all numbers divide by total numbers) </i>\n",
        "Try to present some statistical view of mean(Average).\n",
        "You need to find the mean Average of the array(list). Not built-in function is allowed to use. \n",
        "\n",
        "Example : if user supplies a list [2,3,4,5,5,4,6,7,8,9]\n",
        "\n",
        "The output should be:\n",
        "\n",
        "The mean of the array [2,3,4,5,5,4,6,7,8,9] is 5.3"
      ]
    },
    {
      "cell_type": "code",
      "execution_count": 1,
      "id": "93002a67",
      "metadata": {
        "colab": {
          "base_uri": "https://localhost:8080/"
        },
        "id": "93002a67",
        "outputId": "72e935d5-8611-4f1a-dc89-9ef30df30dfa"
      },
      "outputs": [
        {
          "output_type": "stream",
          "name": "stdout",
          "text": [
            "The average is 5.3\n"
          ]
        }
      ],
      "source": [
        "def cal_average(num):\n",
        "    sum_num = 0\n",
        "    for t in num:\n",
        "        sum_num = sum_num + t           \n",
        "\n",
        "    avg = sum_num / len(num)\n",
        "    return avg\n",
        "\n",
        "print(\"The average is\", cal_average([2,3,4,5,5,4,6,7,8,9]))"
      ]
    },
    {
      "cell_type": "markdown",
      "id": "52bedbb9",
      "metadata": {
        "id": "52bedbb9"
      },
      "source": [
        "#### Task2: Median\n",
        "    \n",
        "Breifly decribe the term <b>Median</b> (<i>dont write mathematical formula</i>)\n",
        "\n",
        "You need to find the Median of the array(list). Not built-in function is allowed to use.\n",
        "\n",
        "Example : if user supplies a list [2,3,4,5,5,4,6,7,8,9]\n",
        "\n",
        "The output should be:\n",
        "\n",
        "The median of the array [2,3,4,5,5,4,6,7,8,9] is 5.\n",
        "    "
      ]
    },
    {
      "cell_type": "code",
      "execution_count": 2,
      "id": "0f10f151",
      "metadata": {
        "colab": {
          "base_uri": "https://localhost:8080/"
        },
        "id": "0f10f151",
        "outputId": "30d16aeb-49b4-42b9-a7d3-d4561c78e9f8"
      },
      "outputs": [
        {
          "output_type": "execute_result",
          "data": {
            "text/plain": [
              "5.0"
            ]
          },
          "metadata": {},
          "execution_count": 2
        }
      ],
      "source": [
        "def my_median(sample):\n",
        "\tn = len(sample)\n",
        "\tindex = n // 2\n",
        "\t# Sample with an odd number of observations\n",
        "\tif n % 2:\n",
        "         return sorted(sample)[index]\n",
        "\t# Sample with an even number of observations\n",
        "\treturn sum(sorted(sample)[index - 1:index + 1]) / 2\n",
        "my_median([2,3,4,5,5,4,6,7,8,9])"
      ]
    },
    {
      "cell_type": "markdown",
      "id": "41484d7c",
      "metadata": {
        "id": "41484d7c"
      },
      "source": [
        "#### Task3: Mode \n",
        "Breifly decribe the term <b>Mode</b> (<i>dont write mathematical formula</i>)\n",
        "\n",
        "You need to find the Mode of the array(list). Not built-in function is allowed to use.\n",
        "\n",
        "Example : if user supplies a list [2,3,4,5,3,4,6,7,3,9]\n",
        "\n",
        "The output should be:\n",
        "\n",
        "The median of the array [2,3,4,5,3,4,6,7,8,3] is 3."
      ]
    },
    {
      "cell_type": "code",
      "execution_count": null,
      "id": "e34c18f9",
      "metadata": {
        "id": "e34c18f9"
      },
      "outputs": [],
      "source": [
        ""
      ]
    },
    {
      "cell_type": "markdown",
      "id": "ad6fee2a",
      "metadata": {
        "id": "ad6fee2a"
      },
      "source": [
        "#### Task4: Sorting an array in ascending order\n",
        "If user supplies an array(list) like arr = [5, 2, 8, 7, 1]. \n",
        "\n",
        "\n",
        "The output should be like:\n",
        "\n",
        "Elements of original array: \n",
        "5 2 8 7 1 \n",
        "\n",
        "Elements of array sorted in ascending order: \n",
        "1 2 5 7 8 \n",
        "\n",
        "Note: We need to write our own sorting algorithm using sort function of list is not acceptable."
      ]
    },
    {
      "cell_type": "code",
      "execution_count": 5,
      "id": "c857c8ba",
      "metadata": {
        "colab": {
          "base_uri": "https://localhost:8080/"
        },
        "id": "c857c8ba",
        "outputId": "8c09a542-52ce-491a-fe97-e05a9af7fc8b"
      },
      "outputs": [
        {
          "output_type": "stream",
          "name": "stdout",
          "text": [
            "[1, 2, 5, 7, 8]\n"
          ]
        }
      ],
      "source": [
        "def selection_sort(nums):\n",
        "    # This value of i corresponds to how many values were sorted\n",
        "    for i in range(len(nums)):\n",
        "        # We assume that the first item of the unsorted segment is the smallest\n",
        "        lowest_value_index = i\n",
        "        # This loop iterates over the unsorted items\n",
        "        for j in range(i + 1, len(nums)):\n",
        "            if nums[j] < nums[lowest_value_index]:\n",
        "                lowest_value_index = j\n",
        "        # Swap values of the lowest unsorted element with the first unsorted\n",
        "        # element\n",
        "        nums[i], nums[lowest_value_index] = nums[lowest_value_index], nums[i]\n",
        "\n",
        "\n",
        "# Verify it works\n",
        "random_list_of_nums =  [5, 2, 8, 7, 1]\n",
        "selection_sort(random_list_of_nums)\n",
        "print(random_list_of_nums)"
      ]
    },
    {
      "cell_type": "markdown",
      "id": "b3134432",
      "metadata": {
        "id": "b3134432"
      },
      "source": [
        "#### Task5: Sorting an array in descending order\n",
        "\n",
        "If user supplies an array(list) like arr = [5, 2, 8, 7, 1]. \n",
        "\n",
        "\n",
        "The output should be like:\n",
        "\n",
        "Elements of original array: \n",
        "5 2 8 7 1 \n",
        "\n",
        "Elements of array sorted in ascending order: \n",
        "8 7 5 2 1 \n",
        "\n",
        "Note: We need to write our own sorting algorithm. Using sort function of list is not acceptable.\n"
      ]
    },
    {
      "cell_type": "code",
      "execution_count": 7,
      "id": "70452f62",
      "metadata": {
        "colab": {
          "base_uri": "https://localhost:8080/"
        },
        "id": "70452f62",
        "outputId": "e14e2363-f980-46a4-a9d8-0e5e79c4b8b2"
      },
      "outputs": [
        {
          "output_type": "stream",
          "name": "stdout",
          "text": [
            "[8, 7, 5, 2, 1]\n"
          ]
        }
      ],
      "source": [
        "def Desc_selection_sort(nums):\n",
        "    # This value of i corresponds to how many values were sorted\n",
        "    for i in range(len(nums)):\n",
        "        # We assume that the first item of the unsorted segment is the smallest\n",
        "        lowest_value_index = i\n",
        "        # This loop iterates over the unsorted items\n",
        "        for j in range(i + 1, len(nums)):\n",
        "            if nums[j] > nums[lowest_value_index]:\n",
        "                lowest_value_index = j\n",
        "        # Swap values of the lowest unsorted element with the first unsorted\n",
        "        # element\n",
        "        nums[i], nums[lowest_value_index] = nums[lowest_value_index], nums[i]\n",
        "\n",
        "\n",
        "# Verify it works\n",
        "random_list_of_nums =  [5, 2, 8, 7, 1]\n",
        "Desc_selection_sort(random_list_of_nums)\n",
        "print(random_list_of_nums)"
      ]
    },
    {
      "cell_type": "markdown",
      "id": "fe5691a5",
      "metadata": {
        "id": "fe5691a5"
      },
      "source": [
        "#### Task6: Finding the max of the inputted array \n",
        "\n",
        "If user supplies an array(list) like arr = [5, 2, 8, 7, 1]. \n",
        "\n",
        "\n",
        "The output should be like:\n",
        "\n",
        "Max value in the array is 8\n",
        "\n",
        "Note: We need to write our own max algorithm. use of python max function is not acceptable. "
      ]
    },
    {
      "cell_type": "code",
      "execution_count": 8,
      "id": "89ab79e3",
      "metadata": {
        "colab": {
          "base_uri": "https://localhost:8080/"
        },
        "id": "89ab79e3",
        "outputId": "9a696553-1e78-4008-d5df-c78e1d0bc9b0"
      },
      "outputs": [
        {
          "output_type": "stream",
          "name": "stdout",
          "text": [
            "8\n"
          ]
        }
      ],
      "source": [
        "random_list_of_nums =  [5, 2, 8, 7, 1]\n",
        "Desc_selection_sort(random_list_of_nums)\n",
        "print(random_list_of_nums[0])"
      ]
    },
    {
      "cell_type": "markdown",
      "id": "04c3bb05",
      "metadata": {
        "id": "04c3bb05"
      },
      "source": [
        "#### Task7: Finding the min of the inputted array\n",
        "If user supplies an array(list) like arr = [5, 2, 8, 7, 1].\n",
        "\n",
        "The output should be like:\n",
        "\n",
        "Min value in the array is 1\n",
        "\n",
        "Note: We need to write our own min algorithm. use of python min function is not acceptable."
      ]
    },
    {
      "cell_type": "code",
      "execution_count": 9,
      "id": "36abc9e4",
      "metadata": {
        "colab": {
          "base_uri": "https://localhost:8080/"
        },
        "id": "36abc9e4",
        "outputId": "9860e234-bcc3-4f75-f57b-d8d29b76c4b0"
      },
      "outputs": [
        {
          "output_type": "stream",
          "name": "stdout",
          "text": [
            "1\n"
          ]
        }
      ],
      "source": [
        "random_list_of_nums =  [5, 2, 8, 7, 1]\n",
        "selection_sort(random_list_of_nums)\n",
        "print(random_list_of_nums[0])"
      ]
    },
    {
      "cell_type": "code",
      "execution_count": null,
      "id": "7c856b2b",
      "metadata": {
        "id": "7c856b2b"
      },
      "outputs": [],
      "source": [
        ""
      ]
    }
  ],
  "metadata": {
    "kernelspec": {
      "display_name": "Python 3",
      "language": "python",
      "name": "python3"
    },
    "language_info": {
      "codemirror_mode": {
        "name": "ipython",
        "version": 3
      },
      "file_extension": ".py",
      "mimetype": "text/x-python",
      "name": "python",
      "nbconvert_exporter": "python",
      "pygments_lexer": "ipython3",
      "version": "3.7.4"
    },
    "colab": {
      "name": "PracticeAssignment6-b.ipynb",
      "provenance": [],
      "include_colab_link": true
    }
  },
  "nbformat": 4,
  "nbformat_minor": 5
}