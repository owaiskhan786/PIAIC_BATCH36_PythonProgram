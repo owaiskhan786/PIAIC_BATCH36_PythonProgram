{
  "cells": [
    {
      "cell_type": "markdown",
      "metadata": {
        "id": "view-in-github",
        "colab_type": "text"
      },
      "source": [
        "<a href=\"https://colab.research.google.com/github/owaiskhan786/PIAIC_BATCH36_PythonProgram/blob/main/Practice_AssignmentClass2_A.ipynb\" target=\"_parent\"><img src=\"https://colab.research.google.com/assets/colab-badge.svg\" alt=\"Open In Colab\"/></a>"
      ]
    },
    {
      "cell_type": "markdown",
      "metadata": {
        "id": "Ipxe1-bSWOJo"
      },
      "source": [
        "# Topic: print()"
      ]
    },
    {
      "cell_type": "markdown",
      "metadata": {
        "id": "fevyeXTXWOJu"
      },
      "source": [
        "1) Using the python print function print any string value, integer value, boolean value, float value in single print command"
      ]
    },
    {
      "cell_type": "code",
      "execution_count": null,
      "metadata": {
        "colab": {
          "base_uri": "https://localhost:8080/"
        },
        "id": "tPPKWiJvWOJv",
        "outputId": "daeb7ca3-2836-44cd-e082-2d8e91442f1d"
      },
      "outputs": [
        {
          "output_type": "stream",
          "name": "stdout",
          "text": [
            "Owais True 1 1.0\n"
          ]
        }
      ],
      "source": [
        "print(\"Owais\",True,1,1.0)"
      ]
    },
    {
      "cell_type": "markdown",
      "metadata": {
        "id": "qgkkrIhoWOJx"
      },
      "source": [
        "2) Using the python print function print hyphon(-) separated any string value, integer value, boolean value, float value in single print command"
      ]
    },
    {
      "cell_type": "code",
      "execution_count": null,
      "metadata": {
        "colab": {
          "base_uri": "https://localhost:8080/"
        },
        "id": "AFv5viMoWOJx",
        "outputId": "5ddb234d-0124-44e9-de61-c2863745376b"
      },
      "outputs": [
        {
          "output_type": "stream",
          "name": "stdout",
          "text": [
            "Hello-World\n"
          ]
        }
      ],
      "source": [
        "print(\"Hello\",\"World\", sep=\"-\")\n"
      ]
    },
    {
      "cell_type": "markdown",
      "metadata": {
        "id": "IdMa9KpKWOJy"
      },
      "source": [
        "3) Using the python print function print any string value, integer value, boolean value, float value in separate print command.\n",
        "But every value must be space separated and in single line "
      ]
    },
    {
      "cell_type": "code",
      "execution_count": null,
      "metadata": {
        "colab": {
          "base_uri": "https://localhost:8080/"
        },
        "id": "zqBphZA7WOJz",
        "outputId": "7ef5a16a-f4c5-46da-af7d-b11c1304512e"
      },
      "outputs": [
        {
          "output_type": "stream",
          "name": "stdout",
          "text": [
            "Hello\n",
            "World\n"
          ]
        }
      ],
      "source": [
        "print(\"Hello\",\"World\", sep=\"\\n\")"
      ]
    },
    {
      "cell_type": "markdown",
      "metadata": {
        "id": "LvYSz01FWOJ0"
      },
      "source": [
        "4) Can a python print function take no value to print???"
      ]
    },
    {
      "cell_type": "code",
      "execution_count": null,
      "metadata": {
        "colab": {
          "base_uri": "https://localhost:8080/"
        },
        "id": "aCwsowOvWOJ0",
        "outputId": "8255cdd6-d5cb-4dc1-b259-df52eab8f22a"
      },
      "outputs": [
        {
          "output_type": "stream",
          "name": "stdout",
          "text": [
            "\n"
          ]
        }
      ],
      "source": [
        "print()"
      ]
    },
    {
      "cell_type": "markdown",
      "metadata": {
        "id": "t3mEH_5RWOJ1"
      },
      "source": [
        "# TOPIC :Variables in Python Operators"
      ]
    },
    {
      "cell_type": "markdown",
      "metadata": {
        "id": "OThYKiogWOJ2"
      },
      "source": [
        "5) One of my friends name is Mr. Ahmed. He is 30 years old.  He is a lawer by profession. He has done his bachelors in law in the year 2005. He is working with a reputable law firm 'The Himalya Associates' in Karachi since 2015.\n",
        "He is a handsome lawer with height of 5.10 feets and weight 70600g. His monthly income is Rs. 200k PKR.\n",
        "\n",
        "Note: Create variables from above text and also assign values from the text.  "
      ]
    },
    {
      "cell_type": "code",
      "execution_count": 16,
      "metadata": {
        "id": "hSBm8-ySWOJ3",
        "colab": {
          "base_uri": "https://localhost:8080/"
        },
        "outputId": "75b9fed3-8644-4a69-def0-0e0133cffe03"
      },
      "outputs": [
        {
          "output_type": "stream",
          "name": "stdout",
          "text": [
            "One of my friends name is Mr. Ahmed. He is 30 years old. He is a lawer by profession. He has done his bachelors in law in the year 2005. He is working with a reputable law firm The Himalya Associates in Karachi since 2015. He is a handsome lawer with height of 5.10 feets and weight 70600. His monthly income is Rs. 200k PKR.\n"
          ]
        }
      ],
      "source": [
        "Friend_Name = 'Mr. Ahmed'\n",
        "Friend_Age = '30'\n",
        "Friend_Pro = 'bachelors in law'\n",
        "Friend_pro_year = '2005'\n",
        "Ini = 'The Himalya Associates'\n",
        "wORKING = '2015'\n",
        "height = '5.10'\n",
        "Weight = '70600'\n",
        "Salary = '200000'\n",
        "\n",
        "print(f'One of my friends name is {Friend_Name}. He is {Friend_Age} years old. He is a lawer by profession. He has done his {Friend_Pro} in the year {Friend_pro_year}. He is working with a reputable law firm {Ini} in Karachi since 2015. He is a handsome lawer with height of {height} feets and weight {Weight}. His monthly income is Rs. 200k PKR.')"
      ]
    },
    {
      "cell_type": "markdown",
      "metadata": {
        "id": "Q9S69HIeWOJ3"
      },
      "source": [
        "6)How many years has been to Mr. Ahmed after his bachelors degree? Create a variable that hold current year value and then subtract it from his passout year"
      ]
    },
    {
      "cell_type": "code",
      "execution_count": 9,
      "metadata": {
        "id": "psQtAfetWOJ3",
        "colab": {
          "base_uri": "https://localhost:8080/"
        },
        "outputId": "d2c70cc2-7146-4824-be40-0c2c21fe5819"
      },
      "outputs": [
        {
          "output_type": "stream",
          "name": "stdout",
          "text": [
            "2005 Current Year : 17\n"
          ]
        }
      ],
      "source": [
        "#type your code here \n",
        "from datetime import date\n",
        "todays_date = date.today()\n",
        "print(f'{Friend_pro_year} Current Year : {todays_date.year - int(Friend_pro_year)}')"
      ]
    },
    {
      "cell_type": "markdown",
      "metadata": {
        "id": "QtGqaLeoWOJ4"
      },
      "source": [
        "7) How many years has Mr. Ahmed been working with law firm 'The Himalya Associates'. Create necesary variables and print the correct number of years in working in the firm"
      ]
    },
    {
      "cell_type": "code",
      "execution_count": 11,
      "metadata": {
        "id": "Tn2Px0DPWOJ4",
        "colab": {
          "base_uri": "https://localhost:8080/"
        },
        "outputId": "6004af09-6048-48db-8248-bdec3daf7b5f"
      },
      "outputs": [
        {
          "output_type": "stream",
          "name": "stdout",
          "text": [
            "2005 Current Year : 7\n"
          ]
        }
      ],
      "source": [
        "from datetime import date\n",
        "todays_date = date.today()\n",
        "print(f'{Friend_pro_year} Current Year : {todays_date.year - int(wORKING)}')"
      ]
    },
    {
      "cell_type": "markdown",
      "metadata": {
        "id": "D2h2jiGpWOJ5"
      },
      "source": [
        "8)Convert the monthly income of Mr. Ahmed in dollars.  Create necesary variables and print the income in dollars."
      ]
    },
    {
      "cell_type": "code",
      "execution_count": 13,
      "metadata": {
        "id": "TcmynxDuWOJ5",
        "colab": {
          "base_uri": "https://localhost:8080/"
        },
        "outputId": "0972f9af-9cdc-4230-fcac-a8a77c835dc7"
      },
      "outputs": [
        {
          "output_type": "stream",
          "name": "stdout",
          "text": [
            "200000  Salary in Dollar : 925.925925925926\n"
          ]
        }
      ],
      "source": [
        "print(f'{Salary}  Salary in Dollar : { int(Salary) / int(216)}')"
      ]
    },
    {
      "cell_type": "markdown",
      "metadata": {
        "id": "mVdqJ3eWWOJ5"
      },
      "source": [
        "9) Check if the income in dollars is a float or integer value. if it is float, re-write the code so that income gets converted in integer. print the income in integer type value"
      ]
    },
    {
      "cell_type": "code",
      "execution_count": 14,
      "metadata": {
        "id": "UiQbcd4iWOJ6",
        "colab": {
          "base_uri": "https://localhost:8080/"
        },
        "outputId": "1d1a617f-fb12-423d-be48-636f500015f8"
      },
      "outputs": [
        {
          "output_type": "stream",
          "name": "stdout",
          "text": [
            "200000  Salary in Dollar : 925\n"
          ]
        }
      ],
      "source": [
        "income_dollar = int(Salary) / int(216)\n",
        "print(f'{Salary}  Salary in Dollar : { int(income_dollar)}')"
      ]
    },
    {
      "cell_type": "raw",
      "metadata": {
        "id": "_1aoRnI7WOJ6"
      },
      "source": [
        "10) Print the type of Mr. Ahmed's weight. Convert the weight of Mr. Ahmed in kg so that weight must be a integer value. "
      ]
    },
    {
      "cell_type": "code",
      "execution_count": 17,
      "metadata": {
        "id": "5F6id8IYWOJ7",
        "colab": {
          "base_uri": "https://localhost:8080/"
        },
        "outputId": "379bcb1a-f4ec-426c-fc0a-fdfa915e377b"
      },
      "outputs": [
        {
          "output_type": "stream",
          "name": "stdout",
          "text": [
            "Mr. Ahmed Weight 70\n"
          ]
        }
      ],
      "source": [
        "#type your code here \n",
        "Weight_kg = int(Weight) / int(1000)\n",
        "print(f'{Friend_Name} Weight {int(Weight_kg) }')"
      ]
    },
    {
      "cell_type": "raw",
      "metadata": {
        "id": "8xHxPRSeWOJ7"
      },
      "source": [
        "11) print the year of birth of Mr. Ahmed."
      ]
    },
    {
      "cell_type": "code",
      "execution_count": 18,
      "metadata": {
        "id": "vs_CiamQWOJ8",
        "colab": {
          "base_uri": "https://localhost:8080/"
        },
        "outputId": "0827ff61-7b72-4fcf-97a4-b119eb612f7f"
      },
      "outputs": [
        {
          "output_type": "stream",
          "name": "stdout",
          "text": [
            "2005 Current Year : 1992\n"
          ]
        }
      ],
      "source": [
        "#type your code here\n",
        "from datetime import date\n",
        "todays_date = date.today()\n",
        "print(f'{Friend_pro_year} birth Year : {todays_date.year - int(Friend_Age)}')"
      ]
    },
    {
      "cell_type": "markdown",
      "metadata": {
        "id": "wW_Mc70IWOJ8"
      },
      "source": [
        "12) Can Rs. 100 be divided equally among 6 students? \n",
        "HINT: % operator"
      ]
    },
    {
      "cell_type": "code",
      "execution_count": 22,
      "metadata": {
        "id": "ckoL93OFWOJ8",
        "colab": {
          "base_uri": "https://localhost:8080/"
        },
        "outputId": "d42b457e-f5f2-4d51-f65a-6c5463c9001f"
      },
      "outputs": [
        {
          "output_type": "stream",
          "name": "stdout",
          "text": [
            "16\n"
          ]
        }
      ],
      "source": [
        "#type your code here \n",
        "i = 100/6\n",
        "print(int(i))"
      ]
    }
  ],
  "metadata": {
    "kernelspec": {
      "display_name": "Python 3",
      "language": "python",
      "name": "python3"
    },
    "language_info": {
      "codemirror_mode": {
        "name": "ipython",
        "version": 3
      },
      "file_extension": ".py",
      "mimetype": "text/x-python",
      "name": "python",
      "nbconvert_exporter": "python",
      "pygments_lexer": "ipython3",
      "version": "3.7.4"
    },
    "colab": {
      "name": "Practice_AssignmentClass2-A.ipynb",
      "provenance": [],
      "include_colab_link": true
    }
  },
  "nbformat": 4,
  "nbformat_minor": 0
}
